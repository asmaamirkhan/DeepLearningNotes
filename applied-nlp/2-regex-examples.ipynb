{
  "nbformat": 4,
  "nbformat_minor": 0,
  "metadata": {
    "colab": {
      "name": "Regex",
      "provenance": []
    },
    "kernelspec": {
      "name": "python3",
      "display_name": "Python 3"
    }
  },
  "cells": [
    {
      "cell_type": "markdown",
      "metadata": {
        "id": "oq47orBd4J5o",
        "colab_type": "text"
      },
      "source": [
        "# 💠 Regex Examples\n"
      ]
    },
    {
      "cell_type": "code",
      "metadata": {
        "id": "_9etlbWUzPm0",
        "colab_type": "code",
        "colab": {}
      },
      "source": [
        "import re"
      ],
      "execution_count": 0,
      "outputs": []
    },
    {
      "cell_type": "markdown",
      "metadata": {
        "id": "EJoGI3v3y-6D",
        "colab_type": "text"
      },
      "source": [
        "## 🖼️ Images\n",
        "- `.jpg`, `.png` and `.gif`"
      ]
    },
    {
      "cell_type": "code",
      "metadata": {
        "id": "QFbByhD6zLc9",
        "colab_type": "code",
        "colab": {}
      },
      "source": [
        "FILES = \"esma.jpg ESMA.png asmaa.gif song.mp3 code.m example.wav bird.jpeg\""
      ],
      "execution_count": 0,
      "outputs": []
    },
    {
      "cell_type": "code",
      "metadata": {
        "id": "yM3yYip6zvLB",
        "colab_type": "code",
        "colab": {
          "base_uri": "https://localhost:8080/",
          "height": 34
        },
        "outputId": "f7435f3f-d4a9-4b77-d885-57bf404711ea"
      },
      "source": [
        "re.findall(\"\\S+.(?:jpg|png|gif)\", FILES)"
      ],
      "execution_count": 68,
      "outputs": [
        {
          "output_type": "execute_result",
          "data": {
            "text/plain": [
              "['esma.jpg', 'ESMA.png', 'asmaa.gif']"
            ]
          },
          "metadata": {
            "tags": []
          },
          "execution_count": 68
        }
      ]
    },
    {
      "cell_type": "markdown",
      "metadata": {
        "id": "mT-QQZnY1RIV",
        "colab_type": "text"
      },
      "source": [
        "## 🌎 HTML tags"
      ]
    },
    {
      "cell_type": "code",
      "metadata": {
        "id": "dFFqll4q1cGu",
        "colab_type": "code",
        "colab": {}
      },
      "source": [
        "TAGS = \"<html> </b> <h2> </code> non-tag random notHTML <> </> < >\""
      ],
      "execution_count": 0,
      "outputs": []
    },
    {
      "cell_type": "code",
      "metadata": {
        "id": "s3Q3cait1nyX",
        "colab_type": "code",
        "colab": {
          "base_uri": "https://localhost:8080/",
          "height": 34
        },
        "outputId": "4c4c844a-3ae1-498a-b488-8df77407709d"
      },
      "source": [
        "re.findall('</{,1}[^(>|\\s)]+>', TAGS)"
      ],
      "execution_count": 70,
      "outputs": [
        {
          "output_type": "execute_result",
          "data": {
            "text/plain": [
              "['<html>', '</b>', '<h2>', '</code>', '</>']"
            ]
          },
          "metadata": {
            "tags": []
          },
          "execution_count": 70
        }
      ]
    },
    {
      "cell_type": "code",
      "metadata": {
        "id": "qqDekuyl8c6W",
        "colab_type": "code",
        "colab": {
          "base_uri": "https://localhost:8080/",
          "height": 34
        },
        "outputId": "81349369-5519-4f1c-9a87-df67c3979044"
      },
      "source": [
        "re.findall(r\"<\\/?([^(\\/>|\\s)])+>\", TAGS)"
      ],
      "execution_count": 71,
      "outputs": [
        {
          "output_type": "execute_result",
          "data": {
            "text/plain": [
              "['l', 'b', '2', 'e']"
            ]
          },
          "metadata": {
            "tags": []
          },
          "execution_count": 71
        }
      ]
    },
    {
      "cell_type": "markdown",
      "metadata": {
        "id": "gpzaTx-WR_40",
        "colab_type": "text"
      },
      "source": [
        "> TODO: investigate this 🙄"
      ]
    },
    {
      "cell_type": "markdown",
      "metadata": {
        "id": "wZjKrfJW4u-1",
        "colab_type": "text"
      },
      "source": [
        "## 📧 Email Addresses"
      ]
    },
    {
      "cell_type": "code",
      "metadata": {
        "id": "_Y4dFyea4yui",
        "colab_type": "code",
        "colab": {}
      },
      "source": [
        "EMAILS = 'esma@gmail.com asmaa@ogr.iu.edu.tr asmaa.mirkhan@example.com not.an@email just.aString'"
      ],
      "execution_count": 0,
      "outputs": []
    },
    {
      "cell_type": "code",
      "metadata": {
        "id": "zlcqzH4Z5I8j",
        "colab_type": "code",
        "colab": {
          "base_uri": "https://localhost:8080/",
          "height": 34
        },
        "outputId": "1b5c0a3b-6b16-4bd2-9ea9-12c8ee1a81a2"
      },
      "source": [
        "re.findall('\\S+[@]{1}\\w+[.]+\\S+', EMAILS)"
      ],
      "execution_count": 73,
      "outputs": [
        {
          "output_type": "execute_result",
          "data": {
            "text/plain": [
              "['esma@gmail.com', 'asmaa@ogr.iu.edu.tr', 'asmaa.mirkhan@example.com']"
            ]
          },
          "metadata": {
            "tags": []
          },
          "execution_count": 73
        }
      ]
    },
    {
      "cell_type": "markdown",
      "metadata": {
        "id": "BHZwk1yoy8V1",
        "colab_type": "text"
      },
      "source": [
        "## 📅 Dates"
      ]
    },
    {
      "cell_type": "code",
      "metadata": {
        "id": "If7BjJw84FyI",
        "colab_type": "code",
        "colab": {}
      },
      "source": [
        "DATE_FORMATS = \"21-05-2020 \\n 21/05/2020 \\n 21/05/20 \\n 5/21/2020 \\n 1 Jul 2020 \\n 1 July 2020 \\n Jul 1, 2020 \\n July 1, 2020\""
      ],
      "execution_count": 0,
      "outputs": []
    },
    {
      "cell_type": "markdown",
      "metadata": {
        "id": "EjNx8lzT8PwA",
        "colab_type": "text"
      },
      "source": [
        "### 🔢 Numerical Dates"
      ]
    },
    {
      "cell_type": "code",
      "metadata": {
        "id": "A-OxgLkQ6s4T",
        "colab_type": "code",
        "colab": {
          "base_uri": "https://localhost:8080/",
          "height": 34
        },
        "outputId": "b81e746d-1c2c-40f9-cc01-d842baa28688"
      },
      "source": [
        "re.findall('\\d{1,2}[/-]\\d{1,2}[/-]\\d{2,4}', DATE_FORMATS)"
      ],
      "execution_count": 75,
      "outputs": [
        {
          "output_type": "execute_result",
          "data": {
            "text/plain": [
              "['21-05-2020', '21/05/2020', '21/05/20', '5/21/2020']"
            ]
          },
          "metadata": {
            "tags": []
          },
          "execution_count": 75
        }
      ]
    },
    {
      "cell_type": "markdown",
      "metadata": {
        "id": "t5mhAMiT8Vj1",
        "colab_type": "text"
      },
      "source": [
        "### 🔠 Alphanumerical Dates"
      ]
    },
    {
      "cell_type": "code",
      "metadata": {
        "id": "h1CKC8xx6xgL",
        "colab_type": "code",
        "colab": {
          "base_uri": "https://localhost:8080/",
          "height": 34
        },
        "outputId": "8d9dd7ff-3da3-4ac2-922d-2c7b8ed35af2"
      },
      "source": [
        "re.findall('\\d{1,2} (Jan|Feb|Mar|Apr|May|Jun|Jul|Aug|Sep|Oct|Nov|Dec) \\d{2,4}', DATE_FORMATS)"
      ],
      "execution_count": 76,
      "outputs": [
        {
          "output_type": "execute_result",
          "data": {
            "text/plain": [
              "['Jul']"
            ]
          },
          "metadata": {
            "tags": []
          },
          "execution_count": 76
        }
      ]
    },
    {
      "cell_type": "code",
      "metadata": {
        "id": "jicvuIuH8ujO",
        "colab_type": "code",
        "colab": {
          "base_uri": "https://localhost:8080/",
          "height": 34
        },
        "outputId": "fbdb5656-bf8e-4fb8-d98d-4b03f7dee975"
      },
      "source": [
        "re.findall('\\d{1,2} (?:Jan|Feb|Mar|Apr|May|Jun|Jul|Aug|Sep|Oct|Nov|Dec) \\d{2,4}', DATE_FORMATS)"
      ],
      "execution_count": 77,
      "outputs": [
        {
          "output_type": "execute_result",
          "data": {
            "text/plain": [
              "['1 Jul 2020']"
            ]
          },
          "metadata": {
            "tags": []
          },
          "execution_count": 77
        }
      ]
    },
    {
      "cell_type": "code",
      "metadata": {
        "id": "2omrfXli85av",
        "colab_type": "code",
        "colab": {
          "base_uri": "https://localhost:8080/",
          "height": 34
        },
        "outputId": "6fbe9360-1c03-47d6-bff6-473916a2bacc"
      },
      "source": [
        "re.findall('\\d{1,2} (?:Jan|Feb|Mar|Apr|May|Jun|Jul|Aug|Sep|Oct|Nov|Dec)[a-z]* \\d{2,4}', DATE_FORMATS)"
      ],
      "execution_count": 78,
      "outputs": [
        {
          "output_type": "execute_result",
          "data": {
            "text/plain": [
              "['1 Jul 2020', '1 July 2020']"
            ]
          },
          "metadata": {
            "tags": []
          },
          "execution_count": 78
        }
      ]
    },
    {
      "cell_type": "code",
      "metadata": {
        "id": "jkJDXfJR9vsm",
        "colab_type": "code",
        "colab": {
          "base_uri": "https://localhost:8080/",
          "height": 34
        },
        "outputId": "0a72a1ed-db0d-4e5c-bbb3-4febf0202d52"
      },
      "source": [
        "re.findall('(?:\\d{1,2} )?(?:Jan|Feb|Mar|Apr|May|Jun|Jul|Aug|Sep|Oct|Nov|Dec)[a-z]* (?:\\d{1,2}, )?\\d{4}', DATE_FORMATS)"
      ],
      "execution_count": 79,
      "outputs": [
        {
          "output_type": "execute_result",
          "data": {
            "text/plain": [
              "['1 Jul 2020', '1 July 2020', 'Jul 1, 2020', 'July 1, 2020']"
            ]
          },
          "metadata": {
            "tags": []
          },
          "execution_count": 79
        }
      ]
    }
  ]
}