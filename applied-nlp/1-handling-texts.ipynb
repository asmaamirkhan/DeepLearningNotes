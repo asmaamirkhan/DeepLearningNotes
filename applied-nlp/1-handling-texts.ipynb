{
  "nbformat": 4,
  "nbformat_minor": 0,
  "metadata": {
    "colab": {
      "name": "NLP",
      "provenance": []
    },
    "kernelspec": {
      "name": "python3",
      "display_name": "Python 3"
    }
  },
  "cells": [
    {
      "cell_type": "markdown",
      "metadata": {
        "id": "wULqgjI4e1Ix",
        "colab_type": "text"
      },
      "source": [
        "# 💠 Python built-in functions\n",
        "## 🔢 Number of characters"
      ]
    },
    {
      "cell_type": "code",
      "metadata": {
        "id": "Y650OUa0lfQI",
        "colab_type": "code",
        "colab": {
          "base_uri": "https://localhost:8080/",
          "height": 34
        },
        "outputId": "c059072b-ea39-4acc-98c0-3c819743b8f1"
      },
      "source": [
        "text = \"Beauty always reserved in details, don't let the big picture steal your attention!\"\n",
        "len(text)"
      ],
      "execution_count": 1,
      "outputs": [
        {
          "output_type": "execute_result",
          "data": {
            "text/plain": [
              "82"
            ]
          },
          "metadata": {
            "tags": []
          },
          "execution_count": 1
        }
      ]
    },
    {
      "cell_type": "markdown",
      "metadata": {
        "id": "inZ876tge-_k",
        "colab_type": "text"
      },
      "source": [
        "## 🧾 Number of words"
      ]
    },
    {
      "cell_type": "code",
      "metadata": {
        "id": "H_jaglcFmsIe",
        "colab_type": "code",
        "colab": {
          "base_uri": "https://localhost:8080/",
          "height": 34
        },
        "outputId": "f8be5e08-ddbd-4175-9814-21c55b9ce5fd"
      },
      "source": [
        "words = text.split(' ')\n",
        "len(words)"
      ],
      "execution_count": 2,
      "outputs": [
        {
          "output_type": "execute_result",
          "data": {
            "text/plain": [
              "13"
            ]
          },
          "metadata": {
            "tags": []
          },
          "execution_count": 2
        }
      ]
    },
    {
      "cell_type": "markdown",
      "metadata": {
        "id": "Ranr0vukfE7w",
        "colab_type": "text"
      },
      "source": [
        "## 4️⃣ Getting words have length greater than 4"
      ]
    },
    {
      "cell_type": "code",
      "metadata": {
        "id": "dmEgrZJ4m_My",
        "colab_type": "code",
        "colab": {
          "base_uri": "https://localhost:8080/",
          "height": 153
        },
        "outputId": "aa9bd9e3-9536-4c2f-a19f-80b4d562f711"
      },
      "source": [
        "moreThan4 = [w for w in words if len(w) > 4]\n",
        "moreThan4"
      ],
      "execution_count": 3,
      "outputs": [
        {
          "output_type": "execute_result",
          "data": {
            "text/plain": [
              "['Beauty',\n",
              " 'always',\n",
              " 'reserved',\n",
              " 'details,',\n",
              " \"don't\",\n",
              " 'picture',\n",
              " 'steal',\n",
              " 'attention!']"
            ]
          },
          "metadata": {
            "tags": []
          },
          "execution_count": 3
        }
      ]
    },
    {
      "cell_type": "markdown",
      "metadata": {
        "id": "As-REhUVfJTR",
        "colab_type": "text"
      },
      "source": [
        "## 🎒 Words properties\n",
        "### 🔠 Getting capitalized words"
      ]
    },
    {
      "cell_type": "code",
      "metadata": {
        "id": "uBm-RZ1XnR4x",
        "colab_type": "code",
        "colab": {
          "base_uri": "https://localhost:8080/",
          "height": 34
        },
        "outputId": "96cff669-4af1-476b-c7c4-9d2241154e9b"
      },
      "source": [
        "capitalized = [w for w in words if w.istitle()]\n",
        "capitalized\n",
        "# ['Beauty', 'Always']"
      ],
      "execution_count": 4,
      "outputs": [
        {
          "output_type": "execute_result",
          "data": {
            "text/plain": [
              "['Beauty']"
            ]
          },
          "metadata": {
            "tags": []
          },
          "execution_count": 4
        }
      ]
    },
    {
      "cell_type": "markdown",
      "metadata": {
        "id": "hxu-pjxboGjG",
        "colab_type": "text"
      },
      "source": [
        "> \"Don't\" is not found 🙄"
      ]
    },
    {
      "cell_type": "markdown",
      "metadata": {
        "id": "xlfkaptGfPOD",
        "colab_type": "text"
      },
      "source": [
        "### 🔚 Getting words end with specific end\n",
        "- or specific start  `.startswith()`"
      ]
    },
    {
      "cell_type": "code",
      "metadata": {
        "id": "byH-eIOQoFlT",
        "colab_type": "code",
        "colab": {
          "base_uri": "https://localhost:8080/",
          "height": 34
        },
        "outputId": "942f5128-af4a-4880-c972-ed9cc86dac4a"
      },
      "source": [
        "text2 = \"You can hide whatever you want to hide but your eyes will always expose you, eyes never lie.\"\n",
        "words = text2.split(' ')\n",
        "endsWithEr = [w for w in words if w.endswith('er')]\n",
        "endsWithEr"
      ],
      "execution_count": 5,
      "outputs": [
        {
          "output_type": "execute_result",
          "data": {
            "text/plain": [
              "['whatever', 'never']"
            ]
          },
          "metadata": {
            "tags": []
          },
          "execution_count": 5
        }
      ]
    },
    {
      "cell_type": "markdown",
      "metadata": {
        "id": "SPkvRvL4fde0",
        "colab_type": "text"
      },
      "source": [
        "## 🐥 Upper and lower"
      ]
    },
    {
      "cell_type": "code",
      "metadata": {
        "id": "wBhVq4AlKm3i",
        "colab_type": "code",
        "colab": {
          "base_uri": "https://localhost:8080/",
          "height": 34
        },
        "outputId": "9c7f6044-0059-4d2c-8bb8-e7024308d8fa"
      },
      "source": [
        "\"ESMA\".isupper()"
      ],
      "execution_count": 6,
      "outputs": [
        {
          "output_type": "execute_result",
          "data": {
            "text/plain": [
              "True"
            ]
          },
          "metadata": {
            "tags": []
          },
          "execution_count": 6
        }
      ]
    },
    {
      "cell_type": "code",
      "metadata": {
        "id": "1frAQXj4K1iO",
        "colab_type": "code",
        "colab": {
          "base_uri": "https://localhost:8080/",
          "height": 34
        },
        "outputId": "ca415f34-d46d-4998-f32f-9b98fba0eda6"
      },
      "source": [
        "\"Esma\".isupper() "
      ],
      "execution_count": 7,
      "outputs": [
        {
          "output_type": "execute_result",
          "data": {
            "text/plain": [
              "False"
            ]
          },
          "metadata": {
            "tags": []
          },
          "execution_count": 7
        }
      ]
    },
    {
      "cell_type": "code",
      "metadata": {
        "id": "DLtp4WOtK5yY",
        "colab_type": "code",
        "colab": {
          "base_uri": "https://localhost:8080/",
          "height": 34
        },
        "outputId": "7611214f-49cc-4e1b-e0fd-14c7d3b0d7c4"
      },
      "source": [
        "\"esma\".isupper()"
      ],
      "execution_count": 8,
      "outputs": [
        {
          "output_type": "execute_result",
          "data": {
            "text/plain": [
              "False"
            ]
          },
          "metadata": {
            "tags": []
          },
          "execution_count": 8
        }
      ]
    },
    {
      "cell_type": "code",
      "metadata": {
        "id": "9l29g1YbK9t-",
        "colab_type": "code",
        "colab": {
          "base_uri": "https://localhost:8080/",
          "height": 34
        },
        "outputId": "d7d26620-0964-48e8-d570-c146174515c0"
      },
      "source": [
        "\"esma\".islower()"
      ],
      "execution_count": 9,
      "outputs": [
        {
          "output_type": "execute_result",
          "data": {
            "text/plain": [
              "True"
            ]
          },
          "metadata": {
            "tags": []
          },
          "execution_count": 9
        }
      ]
    },
    {
      "cell_type": "code",
      "metadata": {
        "id": "-yvVv7saK_iQ",
        "colab_type": "code",
        "colab": {
          "base_uri": "https://localhost:8080/",
          "height": 34
        },
        "outputId": "ea823a6e-cb85-4a91-e34d-78b3aaf49905"
      },
      "source": [
        "\"ESMA\".islower()"
      ],
      "execution_count": 10,
      "outputs": [
        {
          "output_type": "execute_result",
          "data": {
            "text/plain": [
              "False"
            ]
          },
          "metadata": {
            "tags": []
          },
          "execution_count": 10
        }
      ]
    },
    {
      "cell_type": "code",
      "metadata": {
        "id": "JucRB24gLCBv",
        "colab_type": "code",
        "colab": {
          "base_uri": "https://localhost:8080/",
          "height": 34
        },
        "outputId": "44dee4df-208d-4981-a737-0bed9a5ad2f7"
      },
      "source": [
        "\"Esma\".islower()"
      ],
      "execution_count": 11,
      "outputs": [
        {
          "output_type": "execute_result",
          "data": {
            "text/plain": [
              "False"
            ]
          },
          "metadata": {
            "tags": []
          },
          "execution_count": 11
        }
      ]
    },
    {
      "cell_type": "markdown",
      "metadata": {
        "id": "3Fu13QKCfgrP",
        "colab_type": "text"
      },
      "source": [
        "## 🤵 Membership test"
      ]
    },
    {
      "cell_type": "code",
      "metadata": {
        "id": "zYjbeY0cLDht",
        "colab_type": "code",
        "colab": {
          "base_uri": "https://localhost:8080/",
          "height": 34
        },
        "outputId": "9e41a75b-2a73-479c-eeff-076a653b7422"
      },
      "source": [
        "'m' in 'esma'"
      ],
      "execution_count": 12,
      "outputs": [
        {
          "output_type": "execute_result",
          "data": {
            "text/plain": [
              "True"
            ]
          },
          "metadata": {
            "tags": []
          },
          "execution_count": 12
        }
      ]
    },
    {
      "cell_type": "code",
      "metadata": {
        "id": "2qSpdlH3eqnP",
        "colab_type": "code",
        "colab": {
          "base_uri": "https://localhost:8080/",
          "height": 34
        },
        "outputId": "d08e9758-7a83-490f-9498-eb1555bee3cb"
      },
      "source": [
        "'es' in 'esma'"
      ],
      "execution_count": 13,
      "outputs": [
        {
          "output_type": "execute_result",
          "data": {
            "text/plain": [
              "True"
            ]
          },
          "metadata": {
            "tags": []
          },
          "execution_count": 13
        }
      ]
    },
    {
      "cell_type": "code",
      "metadata": {
        "id": "f7AF4MH3erOO",
        "colab_type": "code",
        "colab": {
          "base_uri": "https://localhost:8080/",
          "height": 34
        },
        "outputId": "e3f93f77-2446-4eda-dc6c-df98f90421e5"
      },
      "source": [
        "'ed' in 'esma' "
      ],
      "execution_count": 14,
      "outputs": [
        {
          "output_type": "execute_result",
          "data": {
            "text/plain": [
              "False"
            ]
          },
          "metadata": {
            "tags": []
          },
          "execution_count": 14
        }
      ]
    },
    {
      "cell_type": "markdown",
      "metadata": {
        "id": "-HBdmreGfoU-",
        "colab_type": "text"
      },
      "source": [
        "## 🕵️‍♀️ Unique Words\n",
        "### 🔍 Case sensitive"
      ]
    },
    {
      "cell_type": "code",
      "metadata": {
        "id": "hSI_qXbBeyUK",
        "colab_type": "code",
        "colab": {
          "base_uri": "https://localhost:8080/",
          "height": 34
        },
        "outputId": "e1a296eb-ac82-47e6-9db9-757b6152453f"
      },
      "source": [
        "text3 = \"To be or not to be\"\n",
        "words3 = text3.split(' ')\n",
        "unique = set(words3)\n",
        "unique"
      ],
      "execution_count": 15,
      "outputs": [
        {
          "output_type": "execute_result",
          "data": {
            "text/plain": [
              "{'To', 'be', 'not', 'or', 'to'}"
            ]
          },
          "metadata": {
            "tags": []
          },
          "execution_count": 15
        }
      ]
    },
    {
      "cell_type": "markdown",
      "metadata": {
        "id": "H5AC0sWKf4Ka",
        "colab_type": "text"
      },
      "source": [
        "### ✖️ 🔍 Ignore case"
      ]
    },
    {
      "cell_type": "code",
      "metadata": {
        "id": "zmHBg2itfxEH",
        "colab_type": "code",
        "colab": {
          "base_uri": "https://localhost:8080/",
          "height": 34
        },
        "outputId": "eba5a2ab-fa57-42ca-dd47-f1b10eff732a"
      },
      "source": [
        "unique = set(w.lower() for w in words3)\n",
        "unique"
      ],
      "execution_count": 17,
      "outputs": [
        {
          "output_type": "execute_result",
          "data": {
            "text/plain": [
              "{'be', 'not', 'or', 'to'}"
            ]
          },
          "metadata": {
            "tags": []
          },
          "execution_count": 17
        }
      ]
    },
    {
      "cell_type": "markdown",
      "metadata": {
        "id": "07d6lAGif7Ti",
        "colab_type": "text"
      },
      "source": [
        "## 👮‍♀️ Checking Ops\n",
        "### Is Digit?"
      ]
    },
    {
      "cell_type": "code",
      "metadata": {
        "id": "ZXJ_p-dHf0wD",
        "colab_type": "code",
        "colab": {
          "base_uri": "https://localhost:8080/",
          "height": 34
        },
        "outputId": "29fdc009-da7c-4540-dd7d-142e1a08b7de"
      },
      "source": [
        "'17'.isdigit()"
      ],
      "execution_count": 18,
      "outputs": [
        {
          "output_type": "execute_result",
          "data": {
            "text/plain": [
              "True"
            ]
          },
          "metadata": {
            "tags": []
          },
          "execution_count": 18
        }
      ]
    },
    {
      "cell_type": "code",
      "metadata": {
        "id": "Z3bgnGmQgCde",
        "colab_type": "code",
        "colab": {
          "base_uri": "https://localhost:8080/",
          "height": 34
        },
        "outputId": "0f2b2e83-1f44-413d-bbe6-02dfae6512c5"
      },
      "source": [
        "'17.7'.isdigit()"
      ],
      "execution_count": 19,
      "outputs": [
        {
          "output_type": "execute_result",
          "data": {
            "text/plain": [
              "False"
            ]
          },
          "metadata": {
            "tags": []
          },
          "execution_count": 19
        }
      ]
    },
    {
      "cell_type": "markdown",
      "metadata": {
        "id": "kd3Ly58ugILX",
        "colab_type": "text"
      },
      "source": [
        "### Is Alphabetic?"
      ]
    },
    {
      "cell_type": "code",
      "metadata": {
        "id": "azSN4mY4gEW_",
        "colab_type": "code",
        "colab": {
          "base_uri": "https://localhost:8080/",
          "height": 34
        },
        "outputId": "31dec692-494d-435c-a766-1c3060225e13"
      },
      "source": [
        "'esma'.isalpha()"
      ],
      "execution_count": 20,
      "outputs": [
        {
          "output_type": "execute_result",
          "data": {
            "text/plain": [
              "True"
            ]
          },
          "metadata": {
            "tags": []
          },
          "execution_count": 20
        }
      ]
    },
    {
      "cell_type": "code",
      "metadata": {
        "id": "WB7v5ApkgMbX",
        "colab_type": "code",
        "colab": {
          "base_uri": "https://localhost:8080/",
          "height": 34
        },
        "outputId": "b757790b-253b-49b6-ddc3-4f8a0f955fda"
      },
      "source": [
        "'esma17'.isalpha()"
      ],
      "execution_count": 21,
      "outputs": [
        {
          "output_type": "execute_result",
          "data": {
            "text/plain": [
              "False"
            ]
          },
          "metadata": {
            "tags": []
          },
          "execution_count": 21
        }
      ]
    },
    {
      "cell_type": "markdown",
      "metadata": {
        "id": "iTEzWXyngRd7",
        "colab_type": "text"
      },
      "source": [
        "### Is alphabetic or number?"
      ]
    },
    {
      "cell_type": "code",
      "metadata": {
        "id": "PnqhFKXsgPNo",
        "colab_type": "code",
        "colab": {
          "base_uri": "https://localhost:8080/",
          "height": 34
        },
        "outputId": "308efa7c-7a78-411e-a66c-83bd3aab3660"
      },
      "source": [
        "'17esma'.isalnum()"
      ],
      "execution_count": 22,
      "outputs": [
        {
          "output_type": "execute_result",
          "data": {
            "text/plain": [
              "True"
            ]
          },
          "metadata": {
            "tags": []
          },
          "execution_count": 22
        }
      ]
    },
    {
      "cell_type": "code",
      "metadata": {
        "id": "AskDMFcfgU2N",
        "colab_type": "code",
        "colab": {
          "base_uri": "https://localhost:8080/",
          "height": 34
        },
        "outputId": "8dbee7b5-8ed0-465e-9196-e576690f6a4a"
      },
      "source": [
        "'17esma;'.isalnum()"
      ],
      "execution_count": 23,
      "outputs": [
        {
          "output_type": "execute_result",
          "data": {
            "text/plain": [
              "False"
            ]
          },
          "metadata": {
            "tags": []
          },
          "execution_count": 23
        }
      ]
    },
    {
      "cell_type": "markdown",
      "metadata": {
        "id": "BLiqD9RxgYWT",
        "colab_type": "text"
      },
      "source": [
        "## 🔤 String Ops"
      ]
    },
    {
      "cell_type": "code",
      "metadata": {
        "id": "WNu1m3EHgWbj",
        "colab_type": "code",
        "colab": {
          "base_uri": "https://localhost:8080/",
          "height": 34
        },
        "outputId": "decb8fc5-a214-4eb9-f7e5-3f2e87f154a4"
      },
      "source": [
        "\"Esma\".lower()"
      ],
      "execution_count": 24,
      "outputs": [
        {
          "output_type": "execute_result",
          "data": {
            "text/plain": [
              "'esma'"
            ]
          },
          "metadata": {
            "tags": []
          },
          "execution_count": 24
        }
      ]
    },
    {
      "cell_type": "code",
      "metadata": {
        "id": "i1ZJBtXSgbft",
        "colab_type": "code",
        "colab": {
          "base_uri": "https://localhost:8080/",
          "height": 34
        },
        "outputId": "90a09d8b-cd10-4d47-a557-2dbb1663f496"
      },
      "source": [
        "\"Esma\".upper()"
      ],
      "execution_count": 26,
      "outputs": [
        {
          "output_type": "execute_result",
          "data": {
            "text/plain": [
              "'ESMA'"
            ]
          },
          "metadata": {
            "tags": []
          },
          "execution_count": 26
        }
      ]
    },
    {
      "cell_type": "code",
      "metadata": {
        "id": "dgDKVyYtgdPB",
        "colab_type": "code",
        "colab": {
          "base_uri": "https://localhost:8080/",
          "height": 34
        },
        "outputId": "399166cc-3e4f-4174-8c2c-e52b88dfb71e"
      },
      "source": [
        "\"EsmA\".title()"
      ],
      "execution_count": 27,
      "outputs": [
        {
          "output_type": "execute_result",
          "data": {
            "text/plain": [
              "'Esma'"
            ]
          },
          "metadata": {
            "tags": []
          },
          "execution_count": 27
        }
      ]
    },
    {
      "cell_type": "markdown",
      "metadata": {
        "id": "bm0qBhclghbm",
        "colab_type": "text"
      },
      "source": [
        "## 🧵 Split & Join\n",
        "### Split due to specific character"
      ]
    },
    {
      "cell_type": "code",
      "metadata": {
        "id": "94_lXXIZgfq2",
        "colab_type": "code",
        "colab": {
          "base_uri": "https://localhost:8080/",
          "height": 238
        },
        "outputId": "64b3d8c3-1ca7-4e5f-84d5-c6acda8d2826"
      },
      "source": [
        "text4 = \"Beauty,Always,reserved,in,details,Don't,let,the,big,picture,steal,your,attention!\"\n",
        "words4 = text4.split(',')\n",
        "words4"
      ],
      "execution_count": 28,
      "outputs": [
        {
          "output_type": "execute_result",
          "data": {
            "text/plain": [
              "['Beauty',\n",
              " 'Always',\n",
              " 'reserved',\n",
              " 'in',\n",
              " 'details',\n",
              " \"Don't\",\n",
              " 'let',\n",
              " 'the',\n",
              " 'big',\n",
              " 'picture',\n",
              " 'steal',\n",
              " 'your',\n",
              " 'attention!']"
            ]
          },
          "metadata": {
            "tags": []
          },
          "execution_count": 28
        }
      ]
    },
    {
      "cell_type": "markdown",
      "metadata": {
        "id": "9yvQzNTogrmO",
        "colab_type": "text"
      },
      "source": [
        "### Join by specific character"
      ]
    },
    {
      "cell_type": "code",
      "metadata": {
        "id": "nBm6zlA3gmY9",
        "colab_type": "code",
        "colab": {
          "base_uri": "https://localhost:8080/",
          "height": 34
        },
        "outputId": "023e8ca5-84d7-40a1-f6da-96489523c2e5"
      },
      "source": [
        "joined = \" \".join(words4)\n",
        "joined"
      ],
      "execution_count": 30,
      "outputs": [
        {
          "output_type": "execute_result",
          "data": {
            "text/plain": [
              "\"Beauty Always reserved in details Don't let the big picture steal your attention!\""
            ]
          },
          "metadata": {
            "tags": []
          },
          "execution_count": 30
        }
      ]
    }
  ]
}